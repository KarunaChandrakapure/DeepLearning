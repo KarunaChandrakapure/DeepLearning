{
 "cells": [
  {
   "cell_type": "code",
   "execution_count": 109,
   "id": "aa4a06c5-d8d2-4da6-8e7b-e1f6aece4312",
   "metadata": {},
   "outputs": [],
   "source": [
    "#pip install tensorflow\n",
    "# pip install numpy==1.23.5"
   ]
  },
  {
   "cell_type": "code",
   "execution_count": 110,
   "id": "e51a1050-4d93-465b-81a6-a8cc30a28dc1",
   "metadata": {},
   "outputs": [],
   "source": [
    "import tensorflow as tf\n",
    "from tensorflow import keras\n",
    "from tensorflow.keras import layers\n",
    "from tensorflow.keras.datasets import mnist"
   ]
  },
  {
   "cell_type": "code",
   "execution_count": 111,
   "id": "b4f6561e-b119-4428-98f6-a83232270aa0",
   "metadata": {},
   "outputs": [],
   "source": [
    "(x_train, y_train), (x_test, y_test) = mnist.load_data()"
   ]
  },
  {
   "cell_type": "code",
   "execution_count": 112,
   "id": "50bf4820-5a83-418c-a5f0-4b555f794e24",
   "metadata": {},
   "outputs": [],
   "source": [
    "# If x_train originally contains images of shape (num_samples, 28, 28), it means each sample is a 28×28 grayscale image.\n",
    "# Neural networks (especially fully connected layers) expect 1D input vectors rather than 2D images.\n",
    "# By reshaping to (-1, 28*28), we convert each 28×28 image into a 1D vector of 784 values.\n",
    "x_train = x_train.reshape(-1,28*28).astype('float32')/255.0\n",
    "x_test = x_test.reshape(-1,28*28).astype('float32')/255.0\n"
   ]
  },
  {
   "cell_type": "code",
   "execution_count": 113,
   "id": "338954f6-d644-40c6-aace-69ffccb452e4",
   "metadata": {},
   "outputs": [
    {
     "name": "stdout",
     "output_type": "stream",
     "text": [
      "Model: \"sequential_13\"\n",
      "_________________________________________________________________\n",
      " Layer (type)                Output Shape              Param #   \n",
      "=================================================================\n",
      " dense_38 (Dense)            (None, 512)               401920    \n",
      "                                                                 \n",
      " my_layer (Dense)            (None, 216)               110808    \n",
      "                                                                 \n",
      " dense_39 (Dense)            (None, 10)                2170      \n",
      "                                                                 \n",
      "=================================================================\n",
      "Total params: 514,898\n",
      "Trainable params: 514,898\n",
      "Non-trainable params: 0\n",
      "_________________________________________________________________\n"
     ]
    }
   ],
   "source": [
    "# Ways to define a model using sequential\n",
    "# Method 1\n",
    "\n",
    "model = keras.Sequential(\n",
    "    [ \n",
    "      keras.Input(shape=(28*28)),\n",
    "      layers.Dense(512,activation='relu'),\n",
    "      layers.Dense(216,activation='relu',name='my_layer'),\n",
    "      layers.Dense(10)\n",
    "    ]\n",
    "    \n",
    ")\n",
    "\n",
    "model.summary()\n",
    "\n",
    "\n",
    "# Method 2 adding 1 by 1\n",
    "# model = keras.Sequential()\n",
    "# model.add(keras.Input(shape=(28*28)))\n",
    "# model.add(layers.Dense(512,activation='relu'))          \n",
    "# model.summary()          \n"
   ]
  },
  {
   "cell_type": "code",
   "execution_count": 114,
   "id": "d9c35790-e4c5-4f1d-8721-23c5cf915fce",
   "metadata": {},
   "outputs": [],
   "source": [
    "model.compile(\n",
    "    loss = keras.losses.SparseCategoricalCrossentropy(from_logits=True),\n",
    "    optimizer= keras.optimizers.Adam(learning_rate=0.001),\n",
    "    metrics =[\"accuracy\"]\n",
    ")"
   ]
  },
  {
   "cell_type": "code",
   "execution_count": 115,
   "id": "057c31b0-469f-4111-b64a-e3d35b9e58c7",
   "metadata": {},
   "outputs": [
    {
     "name": "stdout",
     "output_type": "stream",
     "text": [
      "Epoch 1/5\n",
      "3750/3750 - 17s - loss: 0.1834 - accuracy: 0.9440 - 17s/epoch - 5ms/step\n",
      "Epoch 2/5\n",
      "3750/3750 - 16s - loss: 0.0842 - accuracy: 0.9739 - 16s/epoch - 4ms/step\n",
      "Epoch 3/5\n",
      "3750/3750 - 16s - loss: 0.0599 - accuracy: 0.9813 - 16s/epoch - 4ms/step\n",
      "Epoch 4/5\n",
      "3750/3750 - 16s - loss: 0.0455 - accuracy: 0.9856 - 16s/epoch - 4ms/step\n",
      "Epoch 5/5\n",
      "3750/3750 - 16s - loss: 0.0381 - accuracy: 0.9877 - 16s/epoch - 4ms/step\n"
     ]
    },
    {
     "data": {
      "text/plain": [
       "<keras.callbacks.History at 0x7fa99f5c1340>"
      ]
     },
     "execution_count": 115,
     "metadata": {},
     "output_type": "execute_result"
    }
   ],
   "source": [
    "model.fit(x_train,y_train,batch_size=16,epochs=5,verbose=2)"
   ]
  },
  {
   "cell_type": "code",
   "execution_count": 116,
   "id": "333e8845-a9df-48e1-b3b1-3a97e531f294",
   "metadata": {},
   "outputs": [
    {
     "name": "stdout",
     "output_type": "stream",
     "text": [
      "625/625 - 3s - loss: 0.0870 - accuracy: 0.9769 - 3s/epoch - 4ms/step\n"
     ]
    },
    {
     "data": {
      "text/plain": [
       "[0.08695065975189209, 0.9768999814987183]"
      ]
     },
     "execution_count": 116,
     "metadata": {},
     "output_type": "execute_result"
    }
   ],
   "source": [
    "model.evaluate(x_test,y_test,batch_size=16,verbose=2)"
   ]
  },
  {
   "cell_type": "code",
   "execution_count": 117,
   "id": "10de8001-42ad-4417-84ba-1cace593d2cb",
   "metadata": {},
   "outputs": [],
   "source": [
    "# output from any specific layer\n",
    "\n",
    "# method 1\n",
    "# model = keras.Model(inputs=model.inputs,outputs=[model.layers[-2].output])\n",
    "# feature = model.predict(x_train)\n",
    "# feature.shape\n",
    "\n",
    "\n",
    "# method 2\n",
    "# model = keras.Model(inputs=model.inputs,outputs=[model.get_layer('first_layer').output])\n",
    "# feature = model.predict(x_train)\n",
    "# feature.shape\n",
    "\n",
    "\n",
    "# method 3\n",
    "# model = keras.Model(inputs=model.inputs,outputs=[layer.output for layer in model.layers])\n",
    "# features = model.predict(x_train)\n",
    "# for feature in features: \n",
    "#      print(feature.shape)"
   ]
  },
  {
   "cell_type": "code",
   "execution_count": 118,
   "id": "f71ff5af-2f65-45d5-abe5-85bc7e757da4",
   "metadata": {},
   "outputs": [],
   "source": [
    "# # Defining model using Functinal API\n",
    "# inputs = keras.Input(shape=(28*28))\n",
    "# x = layers.Dense(512,activation='relu',name='first_layer')(inputs)\n",
    "# x = layers.Dense(216,activation = 'relu',name='second_layer')(x)\n",
    "# outputs = layers.Dense(10,activation='softmax')(x)\n",
    "# model = keras.Model(inputs=inputs,outputs=outputs)\n",
    "# model.summary()"
   ]
  },
  {
   "cell_type": "code",
   "execution_count": 119,
   "id": "01f9b98b-05b6-409e-9599-fa20f841e258",
   "metadata": {},
   "outputs": [],
   "source": [
    "# model.summary()"
   ]
  },
  {
   "cell_type": "code",
   "execution_count": null,
   "id": "b99aa2fe-e236-4253-847d-3d281665688b",
   "metadata": {},
   "outputs": [],
   "source": []
  }
 ],
 "metadata": {
  "kernelspec": {
   "display_name": "Python 3 (ipykernel)",
   "language": "python",
   "name": "python3"
  },
  "language_info": {
   "codemirror_mode": {
    "name": "ipython",
    "version": 3
   },
   "file_extension": ".py",
   "mimetype": "text/x-python",
   "name": "python",
   "nbconvert_exporter": "python",
   "pygments_lexer": "ipython3",
   "version": "3.8.10"
  }
 },
 "nbformat": 4,
 "nbformat_minor": 5
}
